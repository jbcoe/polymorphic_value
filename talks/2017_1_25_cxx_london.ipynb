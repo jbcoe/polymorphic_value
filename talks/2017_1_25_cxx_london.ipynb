{
 "cells": [
  {
   "cell_type": "markdown",
   "metadata": {
    "slideshow": {
     "slide_type": "slide"
    }
   },
   "source": [
    "# A polymorphic value-type for C++\n",
    "\n",
    "Jonathan B. Coe\n",
    "\n",
    "<https://github.com/jbcoe/polymorphic_value/blob/master/draft.md>"
   ]
  },
  {
   "cell_type": "markdown",
   "metadata": {
    "slideshow": {
     "slide_type": "slide"
    }
   },
   "source": [
    "### Overview\n",
    "\n",
    "The class template `polymorphic_value` is proposed for addition to the C++ Standard Library.\n",
    "\n",
    "A `polymorphic_value<T>` may hold an object of a class publicly derived from T.\n",
    "\n",
    "Copying a `polymorphic_value<T>` will copy the object of the derived type.\n",
    "\n",
    "We will look at motivation for and implementation of `polymorphic_value<T>`."
   ]
  },
  {
   "cell_type": "markdown",
   "metadata": {
    "slideshow": {
     "slide_type": "slide"
    }
   },
   "source": [
    "## Component-based object design\n",
    "\n",
    "Object orientated languages let us design objects in terms of components:\n",
    "\n",
    "```\n",
    "class Composite {\n",
    "  FooComponent f_; BarComponent b_;\n",
    "  \n",
    " public:\n",
    "  Composite(FooComponent f, BarComponent b) : \n",
    "    f_(std::move(f)), b_(std::move(b)) {}\n",
    "  \n",
    "  void foo() const { f_.foo(); }\n",
    "  void foo() { f_.foo(); }\n",
    "    \n",
    "  void bar() const { b_.bar(); }\n",
    "  void bar() { b_.bar(); }\n",
    "};\n",
    "```\n"
   ]
  },
  {
   "cell_type": "markdown",
   "metadata": {
    "slideshow": {
     "slide_type": "slide"
    }
   },
   "source": [
    "### Compiler-generated functions\n",
    "\n",
    "A very simple code example gives some illuminating assembler output:\n",
    "\n",
    "```\n",
    "struct FooComponent { \n",
    "  ~FooComponent(); \n",
    "  void foo() const; \n",
    "  void foo(); \n",
    "};\n",
    "\n",
    "struct BarComponent { \n",
    "  ~BarComponent(); \n",
    "  void bar() const; \n",
    "  void bar(); \n",
    "};\n",
    "\n",
    "void f() { \n",
    "  auto c = Composite(FooComponent(), BarComponent());\n",
    "  auto cc = c;\n",
    "  c.foo();\n",
    "  cc.bar();\n",
    "}\n",
    "```"
   ]
  },
  {
   "cell_type": "markdown",
   "metadata": {
    "slideshow": {
     "slide_type": "slide"
    }
   },
   "source": [
    "### Assembler output\n",
    "\n",
    "With gcc-7-trunk `-O3 -std=c++1z -fno-inline -fno-exceptions`\n",
    "\n",
    "```\n",
    "// A function we never wrote.\n",
    "Composite::~Composite():\n",
    "        push    rbx\n",
    "        mov     rbx, rdi\n",
    "        lea     rdi, [rdi+1]\n",
    "        call    BarComponent::~BarComponent()\n",
    "        mov     rdi, rbx\n",
    "        pop     rbx\n",
    "        jmp     FooComponent::~FooComponent()\n",
    "```"
   ]
  },
  {
   "cell_type": "markdown",
   "metadata": {
    "slideshow": {
     "slide_type": "slide"
    }
   },
   "source": [
    "### Assembler output (2)\n",
    "\n",
    "```\n",
    "// A call to `f` which contains ...\n",
    "f():\n",
    "        sub     rsp, 24\n",
    "        mov     rdi, rsp\n",
    "        call    FooComponent::~FooComponent()\n",
    "        mov     rdi, rsp\n",
    "        call    BarComponent::~BarComponent()\n",
    "        mov     rdi, rsp\n",
    "        call    Composite::foo()\n",
    "        mov     rdi, rsp\n",
    "        // ... a call to a function we never wrote.\n",
    "        call    Composite::~Composite() \n",
    "        add     rsp, 24\n",
    "        ret\n",
    "```\n",
    "\n",
    "[See Matt Godbolt's awesome compiler explorer - https://godbolt.org.]"
   ]
  },
  {
   "cell_type": "markdown",
   "metadata": {
    "slideshow": {
     "slide_type": "slide"
    }
   },
   "source": [
    "### Working with the compiler\n",
    "\n",
    "The compiler has written code for us.\n",
    "\n",
    "The destructor for `Composite` needs to call the destructors for `BarComponent` and `FooComponent`.\n",
    "\n",
    "The compiler knows that members need destroying, and has written the code for us.\n",
    "\n",
    "Code written by me can contain bugs.\n",
    "\n",
    "Code written by people other than me can sometimes contain bugs.\n",
    "\n",
    "Code written by the compiler _does_ _the_ _right_ _thing_...\n",
    "\n",
    "... if the compiler can see what you're trying to do."
   ]
  },
  {
   "cell_type": "markdown",
   "metadata": {
    "slideshow": {
     "slide_type": "slide"
    }
   },
   "source": [
    "### Generated functions\n",
    "\n",
    "The compiler can generate the following special member functions:\n",
    "\n",
    "* A default constructor.\n",
    "* A copy constructor.\n",
    "* A copy assignment operator.\n",
    "* A move constructor.\n",
    "* A move assignment operator.\n",
    "* A destructor.\n",
    "\n",
    "There are rules about when these might get suppressed (which I won't go into in any depth). \n",
    "\n",
    "Prudent design of a class will ensure that the compiler only generates the right special member functions and generates them _correctly_."
   ]
  },
  {
   "cell_type": "markdown",
   "metadata": {
    "slideshow": {
     "slide_type": "slide"
    }
   },
   "source": [
    "## Polymorphism\n",
    "\n",
    "It would be more flexible to build composite objects out of components where each component could be a member of a set of types.\n",
    "\n",
    "* A `Zoo` could contain a list of `Animals` of different types.\n",
    "\n",
    "* A `code_checker` could contain different `checking_tool`s.\n",
    "\n",
    "* A `Game` could contain different `Entities`.\n",
    "\n",
    "* A `Portfolio` could contain different kind of `FinancialInstrument`.\n",
    "\n",
    "If a class contains objects of undecided type, it still needs to reserve storage for something."
   ]
  },
  {
   "cell_type": "markdown",
   "metadata": {
    "slideshow": {
     "slide_type": "slide"
    }
   },
   "source": [
    "### Hopes for a polymorphic Composite class\n",
    "\n",
    "We want code like this to work:\n",
    "\n",
    "```\n",
    "std::vector<Composite> composites;\n",
    "\n",
    "FooComponent0 f0;\n",
    "BarComponent0 b0;\n",
    "composites.push_back(Composite(f0, b0)); // compile error\n",
    "\n",
    "FooComponent1 f1;\n",
    "BarComponent1 b1;\n",
    "composites.push_back(Composite(f1, b1)); // compile error\n",
    "\n",
    "for (auto& c : composites) {\n",
    "  c.foo();\n",
    "  c.bar();\n",
    "}\n",
    "```\n",
    "\n",
    "Sadly it won't compile. \n",
    "\n",
    "`Composite` has members of type `FooComponent` and `BarComponent` and takes objects with those types as constructor arguments."
   ]
  },
  {
   "cell_type": "markdown",
   "metadata": {
    "slideshow": {
     "slide_type": "slide"
    }
   },
   "source": [
    "### Compile-time polymorphism\n",
    "\n",
    "```\n",
    "template <class FooComponent_t, class BarComponent_t>\n",
    "class GenericComposite {\n",
    "  FooComponent f_; BarComponent b_;\n",
    "  \n",
    " public:\n",
    "  GenericComposite(FooComponent_t f, BarComponent_t b) : \n",
    "    f_(std::move(f)), b_(std::move(b)) {}\n",
    "  \n",
    "  void foo() const { f_.foo(); }\n",
    "  void foo() { f_.foo(); }\n",
    "    \n",
    "  void bar() const { b_.bar(); }\n",
    "  void bar() { b_.bar(); }\n",
    "};\n",
    "```\n",
    "\n",
    "The downside here is that the generic nature of this class can leak into other functions/classes. \n",
    "\n",
    "If we want to treat all `Composite`s in the same way then `Composite`s with different components need to be the same type."
   ]
  },
  {
   "cell_type": "markdown",
   "metadata": {
    "slideshow": {
     "slide_type": "slide"
    }
   },
   "source": [
    "### Closed-set polymorphism\n",
    "\n",
    "When the number of different types is known at compile time, we can represent polymorphism with a variant:\n",
    "\n",
    "```\n",
    "using vehicle = std::variant<plane, train, automobile>;\n",
    "```\n",
    "\n",
    "`std::variant` will be part of C++17.\n",
    "\n",
    "A variant keeps enough storage for its largest type and can use this storage to represent any of the types.\n",
    "\n",
    "[ It's not identical to `std::variant` but I've found `eggs::variant` intuitive, fast and fit-for-purpose <https://eggs-cpp.github.io/variant/>. ]"
   ]
  },
  {
   "cell_type": "markdown",
   "metadata": {
    "slideshow": {
     "slide_type": "slide"
    }
   },
   "source": [
    "### Closed-set polymorphism implementation\n",
    "\n",
    "```\n",
    "class ClosedSetComposite {\n",
    "  using FooComponent = variant<Foo1, Foo2>;\n",
    "  using BarComponent = variant<Bar1, Bar2, Bar3>;\n",
    "  FooComponent f_; BarComponent b_;\n",
    "  \n",
    " public:\n",
    "  ClosedSetComposite(FooComponent f, BarComponent b) : \n",
    "    f_(std::move(f)), b_(std::move(b)) {}\n",
    "  \n",
    "  void foo() const { std::visit([](const auto& x){x.foo();}, f_); }\n",
    "  void foo() { std::visit([](auto& x){x.foo();}, f_); }\n",
    "    \n",
    "  void bar() const { std::visit([](const auto& x){x.bar();}, b_); }\n",
    "  void bar() { std::visit([](auto& x){x.bar();}, b_); }\n",
    "};\n",
    "```\n",
    "\n",
    "This will work nicely. The compiler generates all 5 special member functions for us."
   ]
  },
  {
   "cell_type": "markdown",
   "metadata": {
    "slideshow": {
     "slide_type": "slide"
    }
   },
   "source": [
    "### Open-set polymorphism\n",
    "\n",
    "When the number of different types is not known at compile time or is intentionally open for extension, we can represent polymorphism with inheritance:\n",
    "\n",
    "```\n",
    "struct Animal {\n",
    "  virtual ~Animal() = default;\n",
    "  virtual const char* make_noise() const =0;\n",
    "};\n",
    "\n",
    "struct Lion : Animal {\n",
    "  virtual const char* make_noise() const override;\n",
    "};\n",
    "```\n",
    "\n",
    "To store an polymorphic object using inheritance we typically use a pointer to the base type. \n",
    "\n",
    "The pointer will give us access to storage which can be allocated later.\n",
    "\n",
    "Polymorphism through inheritance can localize code changes as type-specific behaviour can be handled by each type."
   ]
  },
  {
   "cell_type": "markdown",
   "metadata": {
    "slideshow": {
     "slide_type": "slide"
    }
   },
   "source": [
    "### Open-set polymorphism implementation\n",
    "\n",
    "```\n",
    "class OpenSetComposite {\n",
    "  FooComponent* f_; BarComponent* b_;\n",
    "\n",
    " public:\n",
    "  OpenSetComposite(FooComponent* f, BarComponent* b) : \n",
    "    f_(f), b_(b) {}\n",
    "\n",
    "  void foo() const { f_->foo(); }\n",
    "  void foo() { f_->foo(); }\n",
    "\n",
    "  void bar() const { b_->bar(); }\n",
    "  void bar() { b_->bar(); }\n",
    "};\n",
    "```\n",
    "\n",
    "This has several significant problems.\n",
    "\n",
    "It compiles, the compiler generates all 5 special member functions, but they won't behave as we want them to."
   ]
  },
  {
   "cell_type": "markdown",
   "metadata": {
    "slideshow": {
     "slide_type": "slide"
    }
   },
   "source": [
    "### Problems with our pointer-based open-set polymorphic composite\n",
    "\n",
    "The compiler understands what pointers do.\n",
    "\n",
    "* They point to things.\n",
    "* They don't own things.\n",
    "\n",
    "This is at odds with what we want.\n",
    "\n",
    "The compiler will generate:\n",
    "* A copy constructor.\n",
    "* A copy assignment operator.\n",
    "* A move constructor.\n",
    "* A move assignment operator.\n",
    "* A destructor.\n",
    "\n",
    "None of them will do what we want as the compiler does not consider pointers to own resources.\n",
    "\n",
    "We have to write those functions ourselves, or encourage the compiler to help us."
   ]
  },
  {
   "cell_type": "markdown",
   "metadata": {
    "slideshow": {
     "slide_type": "slide"
    }
   },
   "source": [
    "## Smart pointers\n",
    "\n",
    "Smart pointers have different semantics to raw pointers and can be used to express intent to the compiler.\n",
    "\n",
    "* Ownership can be transferred.\n",
    "\n",
    "* Resources can be freed on destruction.\n",
    "\n",
    "`C++98` had `std::auto_ptr`. With the introduction of move semantics, we have improved smart pointers in C++11.\n",
    "\n",
    "[C++11 deprecated `std::auto_ptr`. C++17 will remove it.]"
   ]
  },
  {
   "cell_type": "markdown",
   "metadata": {
    "slideshow": {
     "slide_type": "slide"
    }
   },
   "source": [
    "### `unique_ptr<T>`\n",
    "\n",
    "```\n",
    "class OpenSetComposite {\n",
    "  std::unique_ptr<FooComponent> f_; std::unique_ptr<BarComponent> b_;\n",
    "\n",
    " public:\n",
    "  OpenSetComposite(std::unique_ptr<FooComponent> f, \n",
    "                   std::unique_ptr<BarComponent> b) : \n",
    "    f_(std::move(f)), b_(std::move(b)) {}\n",
    "\n",
    "  void foo() const { f_->foo(); }\n",
    "  void foo() { f_->foo(); }\n",
    "\n",
    "  void bar() const { b_->bar(); }\n",
    "  void bar() { b_->bar(); }\n",
    "};\n",
    "```\n",
    "\n",
    "This is an improvement, we now have a correct compiler-generated destructor, move constructor and move assignement operator."
   ]
  },
  {
   "cell_type": "markdown",
   "metadata": {
    "slideshow": {
     "slide_type": "slide"
    }
   },
   "source": [
    "### Issues with `unique_ptr<T>`: non-copyable\n",
    "\n",
    "```\n",
    "OpenSetComposite c(/* omitted */);\n",
    "auto cc = c; // won't compile\n",
    "```\n",
    "\n",
    "I mentioned earlier that under some conditions the compiler will not generate special member functions.\n",
    "\n",
    "If a member variable cannot be neither copy-constructed nor assigned then the compiler will not generate a copy constructor or assignement operator.\n",
    "\n",
    "`std::unique_ptr` does not provide a copy-constructor or assignement operator, this supresses compiler generation of those functions for any class with `std::unique_ptr` members."
   ]
  },
  {
   "cell_type": "markdown",
   "metadata": {
    "slideshow": {
     "slide_type": "slide"
    }
   },
   "source": [
    "### Issues with `unique_ptr<T>`: const-propagation\n",
    "\n",
    "```\n",
    "struct SimpleFooComponent : FooComponent {\n",
    "  void foo() const override { std::cout << \"SimpleFooComponent::foo() const\\n\"; }\n",
    "  void foo() override { std::cout << \"SimpleFooComponent::foo()\\n\"; }\n",
    "}\n",
    "\n",
    "OpenSetComposite c(std::make_unique<SimpleFooComponent>(), /* omitted */ );\n",
    "c.foo(); // prints \"SimpleFooComponent::foo()\"\n",
    "\n",
    "const OpenSetComposite& cc = c;\n",
    "cc.foo(); // prints \"SimpleFooComponent::foo()\"\n",
    "```\n",
    "\n",
    "The `const`-ness of the composite is _not_ propagated to the component. \n",
    "\n",
    "This is how pointers, including smart pointers, work.\n",
    "\n",
    "This _might_ be fine but in my experience it's not future-proof and is a bug-in-waiting."
   ]
  },
  {
   "cell_type": "markdown",
   "metadata": {
    "slideshow": {
     "slide_type": "slide"
    }
   },
   "source": [
    "### `propagate_const<T>`\n",
    "\n",
    "C++ Library Fundamentals Technical Specification 2 offers `propagate_const<T>`.\n",
    "\n",
    "<http://en.cppreference.com/w/cpp/experimental/propagate_const>\n",
    "\n",
    "\n",
    "```\n",
    "template <class T>\n",
    "using member_ptr = std::experimental::propagate_const<std::unique_ptr<T>>;\n",
    "\n",
    "class OpenSetComposite {\n",
    "  member_ptr<FooComponent> f_; \n",
    "  member_ptr<BarComponent> b_;\n",
    "\n",
    " public:\n",
    "  OpenSetComposite(std::unique_ptr<FooComponent> f, \n",
    "                   std::unique_ptr<BarComponent> b) : \n",
    "    f_(std::move(f)), b_(std::move(b)) {}\n",
    "\n",
    "  void foo() const { f_->foo(); }\n",
    "  void foo() { f_->foo(); }\n",
    "\n",
    "  void bar() const { b_->bar(); }\n",
    "  void bar() { b_->bar(); }\n",
    "};\n",
    "```\n",
    "\n",
    "`const`-ness of the composite object is now propagated to its components.\n",
    "\n",
    "Our `OpenSetComposite` is still non-copyable though."
   ]
  },
  {
   "cell_type": "markdown",
   "metadata": {
    "slideshow": {
     "slide_type": "slide"
    }
   },
   "source": [
    "### `shared_ptr<const T>`\n",
    "\n",
    "`shared_ptr<T>` as a member variable of a copyable object will introduce shared mutable state. We don't want that.\n",
    "\n",
    "`shared_ptr<const T>` might work.\n",
    "\n",
    "```\n",
    "class OpenSetComposite {\n",
    "  std::shared_ptr<const FooComponent> f_; \n",
    "  std::shared_ptr<const BarComponent> b_;\n",
    "\n",
    " public:\n",
    "  OpenSetComposite(std::shared_ptr<const FooComponent> f, \n",
    "                   std::shared_ptr<const BarComponent> b) : \n",
    "    f_(std::move(f)), b_(std::move(b)) {}\n",
    "\n",
    "  void foo() const { f_->foo(); }\n",
    "\n",
    "  void bar() const { b_->bar(); }\n",
    "};\n",
    "```\n",
    "\n",
    "Compiler-generated destructor, copy-constructor, move-constructor, copy-assignment and move-assignment operators all work as intended.\n",
    "\n",
    "We've lost mutability."
   ]
  },
  {
   "cell_type": "markdown",
   "metadata": {
    "slideshow": {
     "slide_type": "slide"
    }
   },
   "source": [
    "### `polymorphic_value<T>`\n",
    "\n",
    "```\n",
    "class OpenSetComposite {\n",
    "  polymorphic_value<FooComponent> f_; \n",
    "  polymorphic_value<BarComponent> b_;\n",
    "\n",
    " public:\n",
    "  OpenSetComposite(polymorphic_value<FooComponent> f, \n",
    "                   polymorphic_value<BarComponent> b) : \n",
    "    f_(std::move(f)), b_(std::move(b)) {}\n",
    "\n",
    "  void foo() const { f_->foo(); }\n",
    "  void foo() { f_->foo(); }\n",
    "\n",
    "  void bar() const { b_->bar(); }\n",
    "  void bar() { b_->bar(); }\n",
    "};\n",
    "```\n",
    "\n",
    "The compiler-generated destructor, copy-constructor, move-constructor, copy-assignment and move-assignment operators all work as intended.\n",
    "\n",
    "We've added polymorphism to our original component-based design."
   ]
  },
  {
   "cell_type": "markdown",
   "metadata": {
    "slideshow": {
     "slide_type": "slide"
    }
   },
   "source": [
    "## Design and implementation of `polymorphic_value<T>`"
   ]
  },
  {
   "cell_type": "markdown",
   "metadata": {
    "slideshow": {
     "slide_type": "slide"
    }
   },
   "source": [
    "### `polymorphic_value`: constructors\n",
    "\n",
    "```\n",
    "template <class T> class polymorphic_value { \n",
    "\n",
    "  polymorphic_value() noexcept;\n",
    "  \n",
    "  template <class U, // restrictions apply\n",
    "            class C=default_copy<U>, \n",
    "            class D=default_delete<U>> \n",
    "  explicit polymorphic_value(U* p, C c=C{}, D d=D{});\n",
    "\n",
    "  polymorphic_value(const polymorphic_value& p);\n",
    "  \n",
    "  template <class U> // restrictions apply\n",
    "  polymorphic_value(const polymorphic_value<U>& p);\n",
    "  \n",
    "  template <class U> // restrictions apply\n",
    "  polymorphic_value(const U& u);\n",
    "\n",
    "  polymorphic_value(polymorphic_value&& p) noexcept;\n",
    "  \n",
    "  template <class U> // restrictions apply\n",
    "  polymorphic_value(polymorphic_value<U>&& p);\n",
    "  \n",
    "  template <class U> // restrictions apply\n",
    "  polymorphic_value(U&& u);\n",
    "\n",
    "```"
   ]
  },
  {
   "cell_type": "markdown",
   "metadata": {
    "slideshow": {
     "slide_type": "slide"
    }
   },
   "source": [
    "### `polymorphic_value`: assignment\n",
    "\n",
    "```\n",
    "  polymorphic_value &operator=(const polymorphic_value& p);\n",
    "  \n",
    "  template <class U> // restrictions apply\n",
    "  polymorphic_value& operator=(const polymorphic_value<U>& p);\n",
    "  \n",
    "  template <class U> // restrictions apply\n",
    "  polymorphic_value& operator=(const U& u);\n",
    "\n",
    "  polymorphic_value &operator=(polymorphic_value &&p) noexcept;\n",
    "  \n",
    "  template <class U> // restrictions apply\n",
    "  polymorphic_value& operator=(polymorphic_value<U>&& p);\n",
    "  \n",
    "  template <class U> // restrictions apply\n",
    "  polymorphic_value& operator=(U&& u);\n",
    "```"
   ]
  },
  {
   "cell_type": "markdown",
   "metadata": {
    "slideshow": {
     "slide_type": "slide"
    }
   },
   "source": [
    "### `polymorphic_value`: modifiers and observers\n",
    "```\n",
    "  void swap(polymorphic_value<T>& p) noexcept;\n",
    "\n",
    "  T& operator*();\n",
    "  T* operator->();\n",
    "  const T& operator*() const;\n",
    "  const T* operator->() const;\n",
    "  explicit operator bool() const noexcept;\n",
    "};\n",
    "```"
   ]
  },
  {
   "cell_type": "markdown",
   "metadata": {
    "slideshow": {
     "slide_type": "slide"
    }
   },
   "source": [
    "### `polymorphic_value`: creation\n",
    "```\n",
    "template <class T, class ...Ts> \n",
    "polymorphic_value<T> make_polymorphic_value(Ts&& ...ts); \n",
    "```"
   ]
  },
  {
   "cell_type": "markdown",
   "metadata": {
    "slideshow": {
     "slide_type": "slide"
    }
   },
   "source": [
    "## Implementing `polymorphic_value`\n",
    "\n",
    "```\n",
    "template <class T> class polymorphic_value {\n",
    "   std::unique_ptr<control_block<T>> cb_;\n",
    "   T* ptr_ = nullptr;\n",
    "   \n",
    " public:\n",
    "   polymorphic_value() = default;\n",
    "   \n",
    "   template<class U, \n",
    "            class = std::enable_if_t<std::is_convertible<U*, T*>::value>>\n",
    "   polymorphic_value(const U& u) : \n",
    "     cb_(std::make_unique<direct_control_block<T,U>>(u)) \n",
    "   {\n",
    "     ptr_ = cb_->ptr();\n",
    "   }\n",
    "  \n",
    "   polymorphic_value(const polymorphic_value& p) : \n",
    "     cb_(p.cb_->clone()) \n",
    "   {\n",
    "     ptr_ = cb_->ptr();\n",
    "   }\n",
    "   \n",
    "   // Some methods omitted for brevity.\n",
    "  \n",
    "   T* operator->() { assert(*this); return ptr_; }\n",
    "   \n",
    "   const T* operator->() const { assert(*this); return ptr_; }\n",
    "   \n",
    "   explicit operator bool() const noexcept { return bool(cb_); }\n",
    "};\n",
    "```\n",
    "\n",
    "The hard-work is done by the control block."
   ]
  },
  {
   "cell_type": "markdown",
   "metadata": {
    "slideshow": {
     "slide_type": "slide"
    }
   },
   "source": [
    "### Implementing the control block\n",
    "\n",
    "```\n",
    "template <class T>\n",
    "struct control_block\n",
    "{\n",
    "  virtual ~control_block() = default;\n",
    "  virtual T* ptr() = 0;\n",
    "  virtual std::unique_ptr<control_block> clone() const = 0;\n",
    "};\n",
    "\n",
    "template <class T, class U>\n",
    "class direct_control_block : public control_block<T>\n",
    "{\n",
    "  U u_;\n",
    " public:\n",
    "  direct_control_block(const U& u) : u_(u) {}\n",
    "  \n",
    "  virtual T* ptr() override { return &u_; }\n",
    "  \n",
    "  virtual std::unique_ptr<control_block<T>> clone() const override {\n",
    "    return std::make_unique<direct_control_block>(*this);\n",
    "  }\n",
    "};\n",
    "```\n",
    "\n",
    "The control block instance knows how to copy and delete the object it owns."
   ]
  },
  {
   "cell_type": "markdown",
   "metadata": {
    "slideshow": {
     "slide_type": "slide"
    }
   },
   "source": [
    "### Copying from another polymorphic value\n",
    "\n",
    "We can support constructors of the form:\n",
    "\n",
    "```\n",
    "template <class U> // restrictions apply\n",
    "polymorphic_value(const polymorphic_value<U>& p);\n",
    "```\n",
    "\n",
    "with a special control block\n",
    "\n",
    "```\n",
    "class delegating_control_block : public control_block<T> {\n",
    "  std::unique_ptr<control_block<U>> delegate_;\n",
    "\n",
    "public:\n",
    "  explicit delegating_control_block(std::unique_ptr<control_block<U>> b) : \n",
    "    delegate_(std::move(b)) {\n",
    "  }\n",
    "\n",
    "  std::unique_ptr<control_block<T>> clone() const override {\n",
    "    return std::make_unique<delegating_control_block>(delegate_->clone());\n",
    "  }\n",
    "\n",
    "  T* ptr() override {\n",
    "    return delegate_->ptr();\n",
    "  }\n",
    "};\n",
    "```"
   ]
  },
  {
   "cell_type": "markdown",
   "metadata": {
    "slideshow": {
     "slide_type": "slide"
    }
   },
   "source": [
    "### Copying from another polymorphic value (2)\n",
    "\n",
    "```\n",
    "template <class U, \n",
    "          class = std::enable_if_t<std::is_convertible<U*, T*>::value>>\n",
    "polymorphic_value(const polymorphic_value<U>& p) {\n",
    "  polymorphic_value<U> tmp(p);\n",
    "  ptr_ = tmp.ptr_;\n",
    "  cb_ = std::make_unique<delegating_control_block<T, U>>(std::move(tmp.cb_));\n",
    "}\n",
    "```"
   ]
  },
  {
   "cell_type": "markdown",
   "metadata": {
    "slideshow": {
     "slide_type": "slide"
    }
   },
   "source": [
    "### Construction from a pointer with custom copier and deleter\n",
    "\n",
    "We can support constructors of the form:\n",
    "\n",
    "```\n",
    "  template <class U, \n",
    "            class C = default_copy<U>, \n",
    "            class D = default_delete<U>> // restrictions apply\n",
    "  explicit polymorphic_value(U* u, C copier = C{}, D deleter = D{})\n",
    "```\n",
    "\n",
    "with a special control block\n",
    "\n",
    "```\n",
    "class pointer_control_block : public control_block<T> {\n",
    "  std::unique_ptr<U, D> p_;\n",
    "  C c_;\n",
    "\n",
    "public:\n",
    "  explicit pointer_control_block(U* u, C c = C{}, D d = D{})\n",
    "      : c_(std::move(c)), p_(u, std::move(d)) {\n",
    "  }\n",
    "\n",
    "  std::unique_ptr<control_block<T>> clone() const override {\n",
    "    assert(p_);\n",
    "    return std::make_unique<pointer_control_block>(\n",
    "      c_(*p_), c_, p_.get_deleter());\n",
    "  }\n",
    "\n",
    "  T* ptr() override {\n",
    "    return p_.get();\n",
    "  }\n",
    "};\n",
    "```"
   ]
  },
  {
   "cell_type": "markdown",
   "metadata": {
    "slideshow": {
     "slide_type": "slide"
    }
   },
   "source": [
    "### Construction from a pointer with custom copier and deleter (2)\n",
    "\n",
    "```\n",
    "template <class U, \n",
    "          class C = default_copy<U>, \n",
    "          class D = default_delete<U>,\n",
    "          class V = std::enable_if_t<std::is_convertible<U*, T*>::value>>\n",
    "explicit polymorphic_value(U* u, C copier = C{}, D deleter = D{})\n",
    "{\n",
    "  if (!u) {\n",
    "    return;\n",
    "  }\n",
    "\n",
    "  assert(typeid(*u) == typeid(U)); // Here be dragons!\n",
    "\n",
    "  cb_ = std::make_unique<pointer_control_block<T, U, C, D>>(\n",
    "      u, std::move(copier), std::move(deleter));\n",
    "  ptr_ = u;\n",
    "}\n",
    "```"
   ]
  },
  {
   "cell_type": "markdown",
   "metadata": {
    "slideshow": {
     "slide_type": "slide"
    }
   },
   "source": [
    "## Component objects\n",
    "\n",
    "| Polymorphism | Copyable | Mutable | Recommend |\n",
    "| :---: | :---: | :---: | :---: |\n",
    "| none |  |  | `T` |\n",
    "| compile-time |  |  | `template <class T>` |\n",
    "| closed-set |  |  | `std::variant<Ts...>` |\n",
    "| open-set | No | No | `std::unique_ptr<const T>` |\n",
    "| open-set | No | Yes | `propagate_const<std::unique_ptr<T>>` |\n",
    "| open-set | Yes | No | `std::shared_ptr<const T>` |\n",
    "| open-set | Yes | Yes | `polymorphic_value<T>` |"
   ]
  },
  {
   "cell_type": "markdown",
   "metadata": {
    "slideshow": {
     "slide_type": "slide"
    }
   },
   "source": [
    "## Conclusion\n",
    "\n",
    "`polymorphic_value` confers value semantics on a (potentially) free-store allocated object. This is what we need for open-set polymorphism.\n",
    "\n",
    "Implementation of `polymorphic_value` is relatively simple and does not rely on exotic language features or compiler support.\n",
    "\n",
    "`polymorphic_value` is progressing through the various groups in the C++ standards committee. \n",
    "\n",
    "It may be ready in time for C++20.\n",
    "\n",
    "In the meantime, anyone can still use it."
   ]
  },
  {
   "cell_type": "markdown",
   "metadata": {
    "slideshow": {
     "slide_type": "slide"
    }
   },
   "source": [
    "## Feedback\n",
    "\n",
    "The reference implementation is available on GitHub: <https://github.com/jbcoe/polymorphic_value>\n",
    "\n",
    "It is MIT licensed with the intention of making it widely useable. \n",
    "\n",
    "[Please let me know if an MIT license is problematic for you.]"
   ]
  }
 ],
 "metadata": {
  "celltoolbar": "Slideshow",
  "kernelspec": {
   "display_name": "Python 2",
   "language": "python",
   "name": "python2"
  },
  "language_info": {
   "codemirror_mode": {
    "name": "ipython",
    "version": 2
   },
   "file_extension": ".py",
   "mimetype": "text/x-python",
   "name": "python",
   "nbconvert_exporter": "python",
   "pygments_lexer": "ipython2",
   "version": "2.7.13"
  }
 },
 "nbformat": 4,
 "nbformat_minor": 2
}
