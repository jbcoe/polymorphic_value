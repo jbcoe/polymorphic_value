{
 "cells": [
  {
   "cell_type": "markdown",
   "metadata": {
    "slideshow": {
     "slide_type": "slide"
    }
   },
   "source": [
    "# A polymorphic value-type for C++\n",
    "\n",
    "Jonathan B. Coe\n",
    "\n",
    "<https://github.com/jbcoe/polymorphic_value/blob/master/draft.md>"
   ]
  },
  {
   "cell_type": "markdown",
   "metadata": {
    "slideshow": {
     "slide_type": "slide"
    }
   },
   "source": [
    "The class template `polymorphic_value` is proposed for addition to the C++ standard Library.\n",
    "\n",
    "A `polymorphic_value<T>` may hold an object of a class publicly derived from T.\n",
    "\n",
    "Copying a `polymorphic_value<T>` will copy the object of the derived type."
   ]
  },
  {
   "cell_type": "markdown",
   "metadata": {
    "slideshow": {
     "slide_type": "slide"
    }
   },
   "source": [
    "## Component-based object design\n",
    "\n",
    "Object orientated langauges let us design objects in terms of components:\n",
    "\n",
    "```\n",
    "class Composite {\n",
    "  FooComponent f_; BarComponent b_;\n",
    "  \n",
    " public:\n",
    "  Composite(FooComponent f, BarComponent b) : f_(std::move(f)), b_(std::move(b)) {}\n",
    "  \n",
    "  void foo() const { f_.foo(); }\n",
    "  void foo() { f_.foo(); }\n",
    "    \n",
    "  void bar() const { b_.bar(); }\n",
    "  void bar() { b_.bar(); }\n",
    "};\n",
    "```\n"
   ]
  },
  {
   "cell_type": "markdown",
   "metadata": {
    "slideshow": {
     "slide_type": "slide"
    }
   },
   "source": [
    "## Polymorphism\n",
    "\n",
    "It would be more flexible to build composite objects out of sets of types.\n",
    "\n",
    "* A `Zoo` could contain a list of `Animals` of different types.\n",
    "\n",
    "* A `code_checker` could contain different `checking_tool`s.\n",
    "\n",
    "* A `Game` could contain different `Entities`.\n",
    "\n",
    "* A `Portfolio` could contain different kind of `FinancialInstrument`.\n",
    "\n",
    "If a class contains objects of undecided type, it still needs to reserve storage for something."
   ]
  },
  {
   "cell_type": "markdown",
   "metadata": {
    "slideshow": {
     "slide_type": "slide"
    }
   },
   "source": [
    "### Closed-set polymorphism\n",
    "\n",
    "When the number of different types is known at compile time, we can represent polymorphism with a variant:\n",
    "\n",
    "```\n",
    "using vehicle = std::variant<plane,train,automobile>;\n",
    "```\n",
    "\n",
    "`std::variant` will be part of C++17.\n",
    "\n",
    "A variant keeps enough storage for its largest type and can use this storage to represent any of the types.\n",
    "\n",
    "[ It's not identical to `std::variant` but I've found `eggs::variant` intuitive and fit-for-purpose <https://eggs-cpp.github.io/variant/>. ]"
   ]
  },
  {
   "cell_type": "markdown",
   "metadata": {
    "slideshow": {
     "slide_type": "slide"
    }
   },
   "source": [
    "```\n",
    "class ClosedSetComposite {\n",
    "  using FooComponent = variant<Foo1, Foo2>;\n",
    "  using BarComponent = variant<Bar1, Bar2, Bar3>;\n",
    "  FooComponent f_; BarComponent b_;\n",
    "  \n",
    " public:\n",
    "  ClosedSetComposite(FooComponent f, BarComponent b) : f_(std::move(f)), b_(std::move(b)) {}\n",
    "  \n",
    "  void foo() const { visit(f_, [](const auto& x){x.foo();}); }\n",
    "  void foo() { visit(f_, [](auto& x){x.foo();}); }\n",
    "    \n",
    "  void bar() const { visit(b_, [](const auto& x){x.bar();}); }\n",
    "  void bar() { visit(b_, [](auto& x){x.bar();}); }\n",
    "};\n",
    "```\n",
    "\n",
    "This will work nicely."
   ]
  },
  {
   "cell_type": "markdown",
   "metadata": {
    "slideshow": {
     "slide_type": "slide"
    }
   },
   "source": [
    "### Open-set polymorphism\n",
    "\n",
    "When the number of different types is not known at compile time or is intentionally open for extension, we can represent polymorphism with inheritance:\n",
    "\n",
    "```\n",
    "struct Animal {\n",
    "  virtual ~Animal() = default;\n",
    "  virtual const char* make_noise() const =0;\n",
    "};\n",
    "\n",
    "struct Lion : Animal {\n",
    "  virtual const char* make_noise() const override;\n",
    "};\n",
    "```\n",
    "\n",
    "To store an polymorphic object using inheritance we typically use a pointer to the base type. \n",
    "\n",
    "The pointer will give us access to storage which can be allocated later.\n",
    "\n",
    "Polymorphism through inheritance can localize code changes as type-specific behaviour can be handled by each type."
   ]
  },
  {
   "cell_type": "markdown",
   "metadata": {
    "slideshow": {
     "slide_type": "slide"
    }
   },
   "source": [
    "```\n",
    "class OpenSetComposite {\n",
    "  FooComponent* f_; BarComponent* b_;\n",
    "\n",
    " public:\n",
    "  OpenSetComposite(FooComponent* f, BarComponent* b) : f_(f), b_(b) {}\n",
    "\n",
    "  void foo() const { f_->foo(); }\n",
    "  void foo() { f_->foo(); }\n",
    "\n",
    "  void bar() const { b_->bar(); }\n",
    "  void bar() { b_->bar(); }\n",
    "};\n",
    "```\n",
    "\n",
    "This has several significant problems.\n",
    "\n",
    "It compiles fine but it won't behave as we want it to."
   ]
  },
  {
   "cell_type": "markdown",
   "metadata": {
    "slideshow": {
     "slide_type": "slide"
    }
   },
   "source": [
    "## Smart pointers\n",
    "\n",
    "Smart pointers have different semantics to raw pointers and can be used to express intent to the compiler.\n",
    "\n",
    "* Ownership can be transferred.\n",
    "\n",
    "* Resources can be freed on destruction.\n",
    "\n",
    "`C++98` had `std::auto_ptr`. With the introduction of move semantics, we have improved smart pointers in C++11."
   ]
  },
  {
   "cell_type": "markdown",
   "metadata": {
    "slideshow": {
     "slide_type": "slide"
    }
   },
   "source": [
    "### `unique_ptr<T>`\n",
    "\n",
    "```\n",
    "class OpenSetComposite {\n",
    "  std::unique_ptr<FooComponent> f_; std::unique_ptr<BarComponent> b_;\n",
    "\n",
    " public:\n",
    "  OpenSetComposite(std::unique_ptr<FooComponent> f, \n",
    "                   std::unique_ptr<BarComponent> b) : f_(std::move(f)), b_(std::move(b)) {}\n",
    "\n",
    "  void foo() const { f_->foo(); }\n",
    "  void foo() { f_->foo(); }\n",
    "\n",
    "  void bar() const { b_->bar(); }\n",
    "  void bar() { b_->bar(); }\n",
    "};\n",
    "```\n",
    "\n",
    "This is an improvement, we now have a correct compiler-generated destructor, move constructor and move assignement operator.\n",
    "\n",
    "There are still shortcomings though, the object cannot be copied and the semantics are subtly different to our original design (all we want to do is add polymorphism to the components)."
   ]
  },
  {
   "cell_type": "markdown",
   "metadata": {
    "slideshow": {
     "slide_type": "slide"
    }
   },
   "source": [
    "### const-propagation\n",
    "\n",
    "```\n",
    "struct SimpleFooComponent : FooComponent {\n",
    "  void foo() const override { std::cout << \"SimpleFooComponent::foo() const\\n\"; }\n",
    "  void foo() override { std::cout << \"SimpleFooComponent::foo()\\n\"; }\n",
    "}\n",
    "\n",
    "OpenSetComposite c(std::make_unique<SimpleFooComponent>(), /* omitted */ );\n",
    "c.foo(); // prints \"SimpleFooComponent::foo()\"\n",
    "\n",
    "const OpenSetComposite& cc = c;\n",
    "cc.foo(); // prints \"SimpleFooComponent::foo()\"\n",
    "```\n",
    "\n",
    "The `const`-ness of the Composite is _not_ propagated to the component. \n",
    "\n",
    "This is how pointers, including smart pointers, work.\n",
    "\n",
    "This _could_ be innocuous but silently changing semantics is a bug-in-waiting,"
   ]
  },
  {
   "cell_type": "markdown",
   "metadata": {
    "slideshow": {
     "slide_type": "slide"
    }
   },
   "source": [
    "### `propagate_const<T>`\n",
    "\n",
    "C++ Library Fundamentals Technical Specification 2 offers `propagate_const<T>` which will address the `const`-propagatation issue.\n",
    "\n",
    "<http://en.cppreference.com/w/cpp/experimental/propagate_const>\n",
    "\n",
    "\n",
    "```\n",
    "template <typename T>\n",
    "using member_ptr = std::experimental::propagate_const<std::unique_ptr<T>>;\n",
    "\n",
    "class OpenSetComposite {\n",
    "  member_ptr<FooComponent> f_; \n",
    "  member_ptr<BarComponent> b_;\n",
    "\n",
    " public:\n",
    "  OpenSetComposite(std::unique_ptr<FooComponent> f, \n",
    "                   std::unique_ptr<BarComponent> b) : f_(std::move(f)), b_(std::move(b)) {}\n",
    "\n",
    "  void foo() const { f_->foo(); }\n",
    "  void foo() { f_->foo(); }\n",
    "\n",
    "  void bar() const { b_->bar(); }\n",
    "  void bar() { b_->bar(); }\n",
    "};\n",
    "```\n",
    "\n",
    "`const`-ness of the composite object is now propagated to its components.\n",
    "\n",
    "Our `OpenSetComposite` is still non-copyable though."
   ]
  },
  {
   "cell_type": "markdown",
   "metadata": {
    "slideshow": {
     "slide_type": "slide"
    }
   },
   "source": [
    "### `shared_ptr<const T>`\n",
    "\n",
    "`shared_ptr<T>` as a member variable of a copyable object will introduce shared mutable state. We don't want that.\n",
    "\n",
    "`shared_ptr<const T>` might work.\n",
    "\n",
    "```\n",
    "class OpenSetComposite {\n",
    "  std::shared_ptr<const FooComponent> f_; \n",
    "  std::shared_ptr<const BarComponent> b_;\n",
    "\n",
    " public:\n",
    "  OpenSetComposite(std::shared_ptr<const FooComponent> f, \n",
    "                   std::shared_ptr<const BarComponent> b) : f_(std::move(f)), b_(std::move(b)) {}\n",
    "\n",
    "  void foo() const { f_->foo(); }\n",
    "\n",
    "  void bar() const { b_->bar(); }\n",
    "};\n",
    "```\n",
    "\n",
    "Compiler-generated destructor, copy-constructor, move-constructor, copy-assignment and move-assignment operators all work as intended.\n",
    "\n",
    "We've lost mutability."
   ]
  },
  {
   "cell_type": "markdown",
   "metadata": {
    "slideshow": {
     "slide_type": "slide"
    }
   },
   "source": [
    "### `polymorphic_value<T>`\n",
    "\n",
    "```\n",
    "class OpenSetComposite {\n",
    "  polymorphic_value<FooComponent> f_; \n",
    "  polymorphic_value<BarComponent> b_;\n",
    "\n",
    " public:\n",
    "  OpenSetComposite(polymorphic_value<FooComponent> f, \n",
    "                   polymorphic_value<BarComponent> b) : f_(std::move(f)), b_(std::move(b)) {}\n",
    "\n",
    "  void foo() const { f_->foo(); }\n",
    "  void foo() { f_->foo(); }\n",
    "\n",
    "  void bar() const { b_->bar(); }\n",
    "  void bar() { b_->bar(); }\n",
    "};\n",
    "```\n",
    "\n",
    "The compiler-generated destructor, copy-constructor, move-constructor, copy-assignment and move-assignment operators all work as intended.\n",
    "\n",
    "We've correctly added polymorphism to our original component-based design."
   ]
  },
  {
   "cell_type": "markdown",
   "metadata": {},
   "source": [
    "## Design and implementation of `polymorphic_value<T>`"
   ]
  },
  {
   "cell_type": "markdown",
   "metadata": {
    "slideshow": {
     "slide_type": "slide"
    }
   },
   "source": [
    "### `polymorphic_value`: Constructors\n",
    "\n",
    "```\n",
    "template <class T> class polymorphic_value { \n",
    "\n",
    "  polymorphic_value() noexcept;\n",
    "  template <class U, class C=default_copy<U>, class D=default_delete<U>> \n",
    "    explicit polymorphic_value(U* p, C c=C{}, D d=D{}); // with restrictions\n",
    "\n",
    "  polymorphic_value(const polymorphic_value& p);\n",
    "  template <class U> polymorphic_value(const polymorphic_value<U>& p); // with restrictions\n",
    "  template <class U> polymorphic_value(const U& u); // with restrictions\n",
    "\n",
    "  polymorphic_value(polymorphic_value&& p) noexcept;\n",
    "  template <class U> polymorphic_value(polymorphic_value<U>&& p); // with restrictions\n",
    "  template <class U> polymorphic_value(U&& u); // with restrictions\n",
    "\n",
    "```"
   ]
  },
  {
   "cell_type": "markdown",
   "metadata": {
    "slideshow": {
     "slide_type": "slide"
    }
   },
   "source": [
    "### `polymorphic_value`: Assignment\n",
    "\n",
    "```\n",
    "  polymorphic_value &operator=(const polymorphic_value& p);\n",
    "  template <class U> polymorphic_value &operator=(const polymorphic_value<U>& p); // with restrictions\n",
    "  template <class U> polymorphic_value &operator=(const U& u); // with restrictions\n",
    "\n",
    "  polymorphic_value &operator=(polymorphic_value &&p) noexcept;\n",
    "  template <class U> polymorphic_value &operator=(polymorphic_value<U>&& p); // with restrictions\n",
    "  template <class U> polymorphic_value &operator=(U&& u); // with restrictions\n",
    "```"
   ]
  },
  {
   "cell_type": "markdown",
   "metadata": {
    "slideshow": {
     "slide_type": "slide"
    }
   },
   "source": [
    "### `polymorphic_value`: Modifiers and observers\n",
    "```\n",
    "  void swap(polymorphic_value<T>& p) noexcept;\n",
    "\n",
    "  T& operator*();\n",
    "  T* operator->();\n",
    "  const T& operator*() const;\n",
    "  const T* operator->() const;\n",
    "  explicit operator bool() const noexcept;\n",
    "};\n",
    "```"
   ]
  },
  {
   "cell_type": "markdown",
   "metadata": {
    "slideshow": {
     "slide_type": "slide"
    }
   },
   "source": [
    "### `polymorphic_value`: Creation\n",
    "```\n",
    "template <class T, class ...Ts> polymorphic_value<T>\n",
    "  make_polymorphic_value(Ts&& ...ts); \n",
    "```\n",
    "\n",
    "This helper function allows more efficient construction of a `polymorphic_value` (like `make_shared` does for a `shared_ptr`)."
   ]
  },
  {
   "cell_type": "markdown",
   "metadata": {
    "slideshow": {
     "slide_type": "slide"
    }
   },
   "source": [
    "## A reference implementation"
   ]
  },
  {
   "cell_type": "markdown",
   "metadata": {
    "slideshow": {
     "slide_type": "slide"
    }
   },
   "source": [
    "### Type-erasure"
   ]
  },
  {
   "cell_type": "markdown",
   "metadata": {
    "slideshow": {
     "slide_type": "slide"
    }
   },
   "source": [
    "## Feedback\n",
    "\n",
    "The reference implementation is available on GitHub: <https://github.com/jbcoe/polymorphic_value>\n",
    "\n",
    "It is MIT licensed with the intention of making it widely useable.\n",
    "\n",
    "User-feedback is invited!\n",
    "\n",
    "Please post GitHub issues with any user-feedback."
   ]
  }
 ],
 "metadata": {
  "celltoolbar": "Slideshow",
  "kernelspec": {
   "display_name": "Python 2",
   "language": "python",
   "name": "python2"
  },
  "language_info": {
   "codemirror_mode": {
    "name": "ipython",
    "version": 2
   },
   "file_extension": ".py",
   "mimetype": "text/x-python",
   "name": "python",
   "nbconvert_exporter": "python",
   "pygments_lexer": "ipython2",
   "version": "2.7.13"
  }
 },
 "nbformat": 4,
 "nbformat_minor": 2
}
